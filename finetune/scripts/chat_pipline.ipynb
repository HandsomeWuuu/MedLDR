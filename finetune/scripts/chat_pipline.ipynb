{
 "cells": [
  {
   "cell_type": "code",
   "execution_count": 2,
   "metadata": {},
   "outputs": [
    {
     "name": "stderr",
     "output_type": "stream",
     "text": [
      "/home/h3571902/miniconda3/envs/open_r1/lib/python3.11/site-packages/tqdm/auto.py:21: TqdmWarning: IProgress not found. Please update jupyter and ipywidgets. See https://ipywidgets.readthedocs.io/en/stable/user_install.html\n",
      "  from .autonotebook import tqdm as notebook_tqdm\n"
     ]
    }
   ],
   "source": [
    "# 句子续写\n",
    "from transformers import pipeline\n",
    "import torch\n",
    "from transformers import AutoModelForCausalLM, AutoTokenizer\n",
    "from transformers import GenerationConfig\n",
    "\n",
    "# model_path = '/data/h3571902/deep_r1/models/meta-llama/Meta-Llama-3-8B-Instruct'\n"
   ]
  },
  {
   "cell_type": "markdown",
   "metadata": {},
   "source": [
    "## 使用 Pipeline"
   ]
  },
  {
   "cell_type": "code",
   "execution_count": null,
   "metadata": {},
   "outputs": [],
   "source": [
    "generator = pipeline('text-generation', model = model_path)\n",
    "# generator(\"Hello, I'm a language model\", max_length = 30, num_return_sequences=3)\n",
    "\n",
    "# Create a conversation object\n",
    "conversation = \"Hello, how are you?\"\n",
    "\n",
    "# Generate a response\n",
    "response = generator(conversation, max_length=30, num_return_sequences=1)\n",
    "\n",
    "# Print the response\n",
    "print(response)"
   ]
  },
  {
   "cell_type": "markdown",
   "metadata": {},
   "source": [
    "## Pipeline 推理 医疗模型"
   ]
  },
  {
   "cell_type": "code",
   "execution_count": 3,
   "metadata": {},
   "outputs": [
    {
     "name": "stderr",
     "output_type": "stream",
     "text": [
      "Loading checkpoint shards:  50%|█████     | 2/4 [00:00<00:00,  5.75it/s]"
     ]
    },
    {
     "name": "stderr",
     "output_type": "stream",
     "text": [
      "Loading checkpoint shards: 100%|██████████| 4/4 [00:00<00:00,  5.78it/s]\n",
      "Device set to use cuda:0\n"
     ]
    }
   ],
   "source": [
    "import transformers\n",
    "import torch\n",
    "\n",
    "# model_id = \"/data/h3571902/deep_r1/models/aaditya/Llama3-OpenBioLLM-8B\"\n",
    "# model_id = \"/data/h3571902/deep_r1/open_r1/results/sft/Llama3-OpenBioLLM-8B-mimic-lr1e6/checkpoint-1080\"\n",
    "# model_id = \"/data/h3571902/deep_r1/open_r1/results/sft/Llama3-OpenBioLLM-8B-mimic-lr5e6/checkpoint-1080\"\n",
    "# model_id = \"/data/h3571902/deep_r1/open_r1/results/sft/Llama3-OpenBioLLM-8B-mimic-lr1e5/checkpoint-1080\"\n",
    "\n",
    "model_id = '/data/h3571902/deep_r1/open_r1/results/sft/DeepSeek-R1-Distill-Llama-8B_lr5e6/checkpoint-1080'\n",
    "\n",
    "model_type = 'Distill-Llama-8B'\n",
    "\n",
    "pipeline = transformers.pipeline(\n",
    "    \"text-generation\",\n",
    "    model=model_id,\n",
    "    model_kwargs={\"torch_dtype\": torch.bfloat16},\n",
    "    # device=\"auto\",\n",
    ")\n",
    "\n",
    "if model_type == 'Distill-Llama-8B':\n",
    "    terminators = [\n",
    "        pipeline.tokenizer.eos_token_id,\n",
    "        \n",
    "    ]\n",
    "else:\n",
    "    terminators = [\n",
    "        pipeline.tokenizer.eos_token_id,\n",
    "        pipeline.tokenizer.convert_tokens_to_ids(\"<|eot_id|>\"),\n",
    "    ]\n",
    "    \n",
    "# prompt = 'Hello, who are you?'"
   ]
  },
  {
   "cell_type": "code",
   "execution_count": 4,
   "metadata": {},
   "outputs": [
    {
     "name": "stdout",
     "output_type": "stream",
     "text": [
      "***** Prompt ****** \n",
      " <｜begin▁of▁sentence｜>You are an expert and experienced from the healthcare and biomedical domain with extensive medical knowledge and practical experience. Your name is OpenBioLLM, and you were developed by Saama AI Labs. who's willing to help answer the user's query with explanation. In your explanation, leverage your deep medical expertise such as relevant anatomical structures, physiological processes, diagnostic criteria, treatment guidelines, or other pertinent medical concepts. Use precise medical terminology while still aiming to make the explanation clear and accessible to a general audience.<｜User｜>How can i split a 3mg or 4mg waefin pill so i can get a 2.5mg pill?<｜Assistant｜><think>\n",
      "\n",
      "***** Output ****** \n",
      "\n",
      "{\"suggested_action\": \"Consult a healthcare professional\", \"explanation\": \"Splitting a medication without the guidance of a healthcare provider can lead to incorrect dosing, which may be harmful. It's important to consult with a doctor or pharmacist before adjusting the dosage or splitting any medication. They can provide the appropriate guidance based on your specific medical condition and treatment plan.\"}\n",
      "{\"suggested_action\": \"Consult a healthcare professional\", \"explanation\": \"Splitting a medication without the given instructions can be unsafe. The correct way to split a pill and the dosage should be determined by a healthcare provider to ensure it's done correctly and safely. They can also provide alternative dosing options if needed.\"}\n",
      "{\"suggested_action\": \"Consult a healthcare professional\", \"explanation\": \"Adjusting the dosage of any medication should be done under the supervision of a healthcare provider. They can determine the correct way to split the pill and ensure that the new dosage is both safe and effective for your condition.\"}\n",
      "{\"suggested_action\": \"Consult a healthcare professional\", \"explanation\": \"Splitting a 2.5mg or 4mg waefin pill without professional guidance may result in incorrect dosing, which could be ineffective or even dangerous. Always consult a healthcare provider\n"
     ]
    }
   ],
   "source": [
    "messages = [\n",
    "    {\"role\": \"system\", \"content\": \"You are an expert and experienced from the healthcare and biomedical domain with extensive medical knowledge and practical experience. Your name is OpenBioLLM, and you were developed by Saama AI Labs. who's willing to help answer the user's query with explanation. In your explanation, leverage your deep medical expertise such as relevant anatomical structures, physiological processes, diagnostic criteria, treatment guidelines, or other pertinent medical concepts. Use precise medical terminology while still aiming to make the explanation clear and accessible to a general audience.\"},\n",
    "    {\"role\": \"user\", \"content\": \"How can i split a 3mg or 4mg waefin pill so i can get a 2.5mg pill?\"},\n",
    "]\n",
    "\n",
    "prompt = pipeline.tokenizer.apply_chat_template(\n",
    "        messages, \n",
    "        tokenize=False, \n",
    "        add_generation_prompt=True\n",
    ")\n",
    "\n",
    "print('***** Prompt ****** \\n', prompt)\n",
    "\n",
    "if model_type == 'Distill-Llama-8B':\n",
    "    prompt = prompt.replace(\"<think>\",\"\")\n",
    "\n",
    "outputs = pipeline(\n",
    "    prompt,\n",
    "    max_new_tokens=256,\n",
    "    eos_token_id=terminators,\n",
    "    do_sample=True,\n",
    "    temperature=0.7,\n",
    "    top_p=0.9,\n",
    ")\n",
    "print('***** Output ****** \\n')\n",
    "print(outputs[0][\"generated_text\"][len(prompt):])\n"
   ]
  },
  {
   "cell_type": "code",
   "execution_count": 7,
   "metadata": {},
   "outputs": [
    {
     "name": "stdout",
     "output_type": "stream",
     "text": [
      "***** Prompt ****** \n",
      " <｜begin▁of▁sentence｜>Act as a clinical coding assistant. Based on the patient's medical records, output ONLY the top 1-3 most probable ICD-10 codes from the provided disease list. Strictly format as valid JSON with a \"diagnoses\" array containing codes ordered by descending probability. Use only codes from the predefined 50-disease ICD-10 list. Omit all explanatory text. Example output format: {\"diagnoses\": [\"code1\", \"code2\",...]}\n",
      "Each disease corresponds to the format icd_code:icd_name  [ 34830:Encephalopathy, unspecified; 42833:Acute on chronic diastolic heart failure; 4589:Hypotension, unspecified; 311:Depressive disorder, not elsewhere classified; 5990:Urinary tract infection, site not specified; 6827:Cellulitis and abscess of foot, except toes; 2724:Other and unspecified hyperlipidemia;  43411:Cerebral embolism with cerebral infarction; 40491:Hypertensive heart and chronic kidney disease, unspecified, with heart failure and with chronic kidney disease stage I through stage IV, or unspecified; 2762:Acidosis; 7802:Syncope and collapse; 99591:Sepsis; 41071:Subendocardial infarction, initial episode of care;  42822:Chronic systolic heart failure; 28419:Other pancytopenia; 42823:Acute on chronic systolic heart failure; 27651:Dehydration; 99592:Severe sepsis; 25080:Diabetes with other specified manifestations, type II or unspecified type, not stated as uncontrolled; 4280:Congestive heart failure, unspecified; 51881:Acute respiratory failure;  5856:End stage renal disease; 42832:Chronic diastolic heart failure; 2761:Hyposmolality and/or hyponatremia; 25000:Diabetes mellitus without mention of complication, type II or unspecified type, not stated as uncontrolled; 25040:Diabetes with renal manifestations, type II or unspecified type, not stated as uncontrolled; 34831:Metabolic encephalopathy;  5849:Acute kidney failure, unspecified; 5070:Pneumonitis due to inhalation of food or vomitus; 2851:Acute posthemorrhagic anemia; 262:Other severe protein-calorie malnutrition; 40291:Unspecified hypertensive heart disease with heart failure; 5762:Obstruction of bile duct; 5770:Acute pancreatitis; 431:Intracerebral hemorrhage; 4019:Unspecified essential hypertension;  486:Pneumonia, organism unspecified; 42731:Atrial fibrillation; 3485:Cerebral edema; 5845:Acute kidney failure with lesion of tubular necrosis; 51884:Acute and chronic respiratory failure; 43491:Cerebral artery occlusion, unspecified with cerebral infarction; 41401:Coronary atherosclerosis of native coronary artery; 99859:Other postoperative infection;  41519:Other pulmonary embolism and infarction; 2875:Thrombocytopenia, unspecified; 34982:Toxic encephalopathy; 40391:Hypertensive chronic kidney disease, unspecified, with chronic kidney disease stage V or end stage renal disease; 29181:Alcohol withdrawal]<｜User｜>\n",
      " chief complaint: Confusion\n",
      " ED info:\n",
      "gender,age approximation,temperature,heartrate,resprate,oxygen saturation,systolic blood pressure,diastolic blood pressure,pain level\n",
      "M,81,nan,62.0,16.0,96.0,124.0,39.0,0\n",
      "\n",
      " family history: Family history is remarkable for coronary artery disease, renal \n",
      "insufficiency, and diabetes in his father. No family members \n",
      "with prior DVTs, bleeding disorders or pulmonary embolisms.\n",
      " following lab tests are available for the patient:\n",
      "labevents name,measurement fluid,measurement category,value,valueuom,lower_bound,upper_bound\n",
      "INR(PT),Blood,Hematology,3.4,nan,0.9,1.1\n",
      "PT,Blood,Hematology,37.6,sec,9.4,12.5\n",
      "PTT,Blood,Hematology,32.2,sec,25.0,36.5\n",
      "Hematocrit,Blood,Hematology,21.0,%,40.0,52.0\n",
      "Hemoglobin,Blood,Hematology,6.7,g/dL,14.0,18.0\n",
      "MCH,Blood,Hematology,29.6,pg,27.0,32.0\n",
      "MCHC,Blood,Hematology,32.1,%,31.0,35.0\n",
      "MCV,Blood,Hematology,92.0,fL,82.0,98.0\n",
      "Platelet Count,Blood,Hematology,70.0,K/uL,150.0,440.0\n",
      "RDW,Blood,Hematology,20.6,%,10.5,15.5\n",
      "Red Blood Cells,Blood,Hematology,2.28,m/uL,4.6,6.2\n",
      "White Blood Cells,Blood,Hematology,9.4,K/uL,4.0,11.0\n",
      "Anion Gap,Blood,Chemistry,17.0,mEq/L,8.0,20.0\n",
      "Bicarbonate,Blood,Chemistry,26.0,mEq/L,22.0,32.0\n",
      "Calcium, Total,Blood,Chemistry,7.2,mg/dL,8.4,10.3\n",
      "Chloride,Blood,Chemistry,99.0,mEq/L,96.0,108.0\n",
      "Creatinine,Blood,Chemistry,3.3,mg/dL,0.5,1.2\n",
      "Magnesium,Blood,Chemistry,2.1,mg/dL,1.6,2.6\n",
      "Phosphate,Blood,Chemistry,5.6,mg/dL,2.7,4.5\n",
      "Potassium,Blood,Chemistry,4.1,mEq/L,3.3,5.1\n",
      "Sodium,Blood,Chemistry,138.0,mEq/L,133.0,145.0\n",
      "Urea Nitrogen,Blood,Chemistry,78.0,mg/dL,6.0,20.0\n",
      "Albumin,Blood,Chemistry,2.5,g/dL,3.5,5.2\n",
      "Ferritin,Blood,Chemistry,256.0,ng/mL,30.0,400.0\n",
      "Iron,Blood,Chemistry,21.0,ug/dL,45.0,160.0\n",
      "Iron Binding Capacity, Total,Blood,Chemistry,182.0,ug/dL,260.0,470.0\n",
      "Transferrin,Blood,Chemistry,140.0,mg/dL,200.0,360.0\n",
      "<｜Assistant｜>\n",
      "\n"
     ]
    },
    {
     "name": "stdout",
     "output_type": "stream",
     "text": [
      "***** Output ****** \n",
      "\n",
      "{\"diagnoses\": [\"5849\", \"34982\"]}\n"
     ]
    }
   ],
   "source": [
    "mimic_prompt = '''Act as a clinical coding assistant. Based on the patient's medical records, output ONLY the top 1-3 most probable ICD-10 codes from the provided disease list. Strictly format as valid JSON with a \"diagnoses\" array containing codes ordered by descending probability. Use only codes from the predefined 50-disease ICD-10 list. Omit all explanatory text. Example output format: {\"diagnoses\": [\"code1\", \"code2\",...]}\n",
    "Each disease corresponds to the format icd_code:icd_name  [ 34830:Encephalopathy, unspecified; 42833:Acute on chronic diastolic heart failure; 4589:Hypotension, unspecified; 311:Depressive disorder, not elsewhere classified; 5990:Urinary tract infection, site not specified; 6827:Cellulitis and abscess of foot, except toes; 2724:Other and unspecified hyperlipidemia;  43411:Cerebral embolism with cerebral infarction; 40491:Hypertensive heart and chronic kidney disease, unspecified, with heart failure and with chronic kidney disease stage I through stage IV, or unspecified; 2762:Acidosis; 7802:Syncope and collapse; 99591:Sepsis; 41071:Subendocardial infarction, initial episode of care;  42822:Chronic systolic heart failure; 28419:Other pancytopenia; 42823:Acute on chronic systolic heart failure; 27651:Dehydration; 99592:Severe sepsis; 25080:Diabetes with other specified manifestations, type II or unspecified type, not stated as uncontrolled; 4280:Congestive heart failure, unspecified; 51881:Acute respiratory failure;  5856:End stage renal disease; 42832:Chronic diastolic heart failure; 2761:Hyposmolality and/or hyponatremia; 25000:Diabetes mellitus without mention of complication, type II or unspecified type, not stated as uncontrolled; 25040:Diabetes with renal manifestations, type II or unspecified type, not stated as uncontrolled; 34831:Metabolic encephalopathy;  5849:Acute kidney failure, unspecified; 5070:Pneumonitis due to inhalation of food or vomitus; 2851:Acute posthemorrhagic anemia; 262:Other severe protein-calorie malnutrition; 40291:Unspecified hypertensive heart disease with heart failure; 5762:Obstruction of bile duct; 5770:Acute pancreatitis; 431:Intracerebral hemorrhage; 4019:Unspecified essential hypertension;  486:Pneumonia, organism unspecified; 42731:Atrial fibrillation; 3485:Cerebral edema; 5845:Acute kidney failure with lesion of tubular necrosis; 51884:Acute and chronic respiratory failure; 43491:Cerebral artery occlusion, unspecified with cerebral infarction; 41401:Coronary atherosclerosis of native coronary artery; 99859:Other postoperative infection;  41519:Other pulmonary embolism and infarction; 2875:Thrombocytopenia, unspecified; 34982:Toxic encephalopathy; 40391:Hypertensive chronic kidney disease, unspecified, with chronic kidney disease stage V or end stage renal disease; 29181:Alcohol withdrawal]'''\n",
    "\n",
    "mimic_user = '''\n",
    " chief complaint: Confusion\n",
    " ED info:\n",
    "gender,age approximation,temperature,heartrate,resprate,oxygen saturation,systolic blood pressure,diastolic blood pressure,pain level\n",
    "M,81,nan,62.0,16.0,96.0,124.0,39.0,0\n",
    "\n",
    " family history: Family history is remarkable for coronary artery disease, renal \n",
    "insufficiency, and diabetes in his father. No family members \n",
    "with prior DVTs, bleeding disorders or pulmonary embolisms.\n",
    " following lab tests are available for the patient:\n",
    "labevents name,measurement fluid,measurement category,value,valueuom,lower_bound,upper_bound\n",
    "INR(PT),Blood,Hematology,3.4,nan,0.9,1.1\n",
    "PT,Blood,Hematology,37.6,sec,9.4,12.5\n",
    "PTT,Blood,Hematology,32.2,sec,25.0,36.5\n",
    "Hematocrit,Blood,Hematology,21.0,%,40.0,52.0\n",
    "Hemoglobin,Blood,Hematology,6.7,g/dL,14.0,18.0\n",
    "MCH,Blood,Hematology,29.6,pg,27.0,32.0\n",
    "MCHC,Blood,Hematology,32.1,%,31.0,35.0\n",
    "MCV,Blood,Hematology,92.0,fL,82.0,98.0\n",
    "Platelet Count,Blood,Hematology,70.0,K/uL,150.0,440.0\n",
    "RDW,Blood,Hematology,20.6,%,10.5,15.5\n",
    "Red Blood Cells,Blood,Hematology,2.28,m/uL,4.6,6.2\n",
    "White Blood Cells,Blood,Hematology,9.4,K/uL,4.0,11.0\n",
    "Anion Gap,Blood,Chemistry,17.0,mEq/L,8.0,20.0\n",
    "Bicarbonate,Blood,Chemistry,26.0,mEq/L,22.0,32.0\n",
    "Calcium, Total,Blood,Chemistry,7.2,mg/dL,8.4,10.3\n",
    "Chloride,Blood,Chemistry,99.0,mEq/L,96.0,108.0\n",
    "Creatinine,Blood,Chemistry,3.3,mg/dL,0.5,1.2\n",
    "Magnesium,Blood,Chemistry,2.1,mg/dL,1.6,2.6\n",
    "Phosphate,Blood,Chemistry,5.6,mg/dL,2.7,4.5\n",
    "Potassium,Blood,Chemistry,4.1,mEq/L,3.3,5.1\n",
    "Sodium,Blood,Chemistry,138.0,mEq/L,133.0,145.0\n",
    "Urea Nitrogen,Blood,Chemistry,78.0,mg/dL,6.0,20.0\n",
    "Albumin,Blood,Chemistry,2.5,g/dL,3.5,5.2\n",
    "Ferritin,Blood,Chemistry,256.0,ng/mL,30.0,400.0\n",
    "Iron,Blood,Chemistry,21.0,ug/dL,45.0,160.0\n",
    "Iron Binding Capacity, Total,Blood,Chemistry,182.0,ug/dL,260.0,470.0\n",
    "Transferrin,Blood,Chemistry,140.0,mg/dL,200.0,360.0\n",
    "'''\n",
    "\n",
    "messages = [\n",
    "    {\"role\": \"system\", \"content\": mimic_prompt},\n",
    "    {\"role\": \"user\", \"content\": mimic_user},\n",
    "]\n",
    "\n",
    "prompt = pipeline.tokenizer.apply_chat_template(\n",
    "        messages, \n",
    "        tokenize=False, \n",
    "        add_generation_prompt=True\n",
    ")\n",
    "if model_type == 'Distill-Llama-8B':\n",
    "    prompt = prompt.replace(\"<think>\",\"\")\n",
    "\n",
    "print('***** Prompt ****** \\n', prompt)\n",
    "\n",
    "\n",
    "outputs = pipeline(\n",
    "    prompt,\n",
    "    max_new_tokens=1024,\n",
    "    eos_token_id=terminators,\n",
    "    do_sample=True,\n",
    "    temperature=0.7,\n",
    "    top_p=0.9,\n",
    ")\n",
    "print('***** Output ****** \\n')\n",
    "print(outputs[0][\"generated_text\"][len(prompt):])\n",
    "\n"
   ]
  },
  {
   "cell_type": "code",
   "execution_count": 9,
   "metadata": {},
   "outputs": [
    {
     "name": "stdout",
     "output_type": "stream",
     "text": [
      "***** Prompt ****** \n",
      " <｜begin▁of▁sentence｜>You are a helpful assistant. <｜User｜>Hello, What is the largest animal in the world?<｜Assistant｜>\n",
      "\n",
      "***** Output ****** \n",
      "\n",
      "{\"answer\": [\"Blue whale\", \"Giraffe\"]}  \"The blue whale is the largest animal on Earth. It can weigh up to 400,000 pounds and have a length of about 80 feet. The giraffe is the largest land animal, weighing up to 4,000 pounds and standing about 6 feet tall. So, depending on the category (land or sea), both are the largest in their respective environments.\"}\n",
      "{\"answer\": [\"Blue whale\", \"Giraffe\"]}  \"The blue whale is the largest animal on Earth. It can weigh up to 400,000 pounds and have a length of about 80 feet. The giraffe is the largest land animal, weighing up to 4,000 pounds and standing about 6 feet tall. So, depending on the category (land or sea), both are the largest in their respective environments.\"}\n",
      "{\"answer\": [\"Blue whale\"]}  \"The blue whale is the largest animal on Earth, weighing\n"
     ]
    }
   ],
   "source": [
    "mimic_prompt = 'You are a helpful assistant. '\n",
    "# mimic_user = 'Hello, what is your name?'\n",
    "mimic_user = 'Hello, What is the largest animal in the world?'\n",
    "\n",
    "messages = [\n",
    "    {\"role\": \"system\", \"content\": mimic_prompt},\n",
    "    {\"role\": \"user\", \"content\": mimic_user},\n",
    "]\n",
    "\n",
    "prompt = pipeline.tokenizer.apply_chat_template(\n",
    "        messages, \n",
    "        tokenize=False, \n",
    "        add_generation_prompt=True\n",
    ")\n",
    "if model_type == 'Distill-Llama-8B':\n",
    "    prompt = prompt.replace(\"<think>\",\"\")\n",
    "\n",
    "print('***** Prompt ****** \\n', prompt)\n",
    "\n",
    "outputs = pipeline(\n",
    "    prompt,\n",
    "    max_new_tokens=200,\n",
    "    eos_token_id=terminators,\n",
    "    do_sample=True,\n",
    "    temperature=0.7,\n",
    "    top_p=0.9,\n",
    ")\n",
    "print('***** Output ****** \\n')\n",
    "print(outputs[0][\"generated_text\"][len(prompt):])\n",
    "\n"
   ]
  },
  {
   "cell_type": "code",
   "execution_count": null,
   "metadata": {},
   "outputs": [],
   "source": []
  },
  {
   "cell_type": "markdown",
   "metadata": {},
   "source": [
    "## 加载推理"
   ]
  },
  {
   "cell_type": "markdown",
   "metadata": {},
   "source": [
    "### 原模型"
   ]
  },
  {
   "cell_type": "code",
   "execution_count": 1,
   "metadata": {},
   "outputs": [],
   "source": [
    "# # base_model_path = '/data/h3571902/deep_r1/models/DeepSeek-R1-Distill-Llama-8B'\n",
    "# base_model_path = '/data/h3571902/deep_r1/open_r1/results/sft/DeepSeek-R1-Distill-Llama-8B_lr5e6/checkpoint-1080'\n",
    "# tokenizer = AutoTokenizer.from_pretrained(base_model_path)\n",
    "# model = AutoModelForCausalLM.from_pretrained(base_model_path, device_map=\"auto\", torch_dtype=torch.bfloat16)\n",
    "\n",
    "# generation_config = GenerationConfig.from_pretrained(base_model_path)\n",
    "# print('generation_config:',generation_config)"
   ]
  },
  {
   "cell_type": "code",
   "execution_count": null,
   "metadata": {},
   "outputs": [
    {
     "name": "stderr",
     "output_type": "stream",
     "text": [
      "The attention mask and the pad token id were not set. As a consequence, you may observe unexpected behavior. Please pass your input's `attention_mask` to obtain reliable results.\n",
      "Setting `pad_token_id` to `eos_token_id`:128001 for open-end generation.\n"
     ]
    },
    {
     "name": "stdout",
     "output_type": "stream",
     "text": [
      "***** Prompt ****** \n",
      " <｜begin▁of▁sentence｜>You are a friendly chatbot<｜User｜>Hello, who are you ?<｜Assistant｜><think>\n",
      "\n",
      "***** Prompt ****** \n",
      " <｜begin▁of▁sentence｜>You are a friendly chatbot<｜User｜>Hello, who are you ?<｜Assistant｜>\n",
      "\n",
      "<｜begin▁of▁sentence｜><｜begin▁of▁sentence｜>You are a friendly chatbot<｜User｜>Hello, who are you ?<｜Assistant｜>\n",
      "I'm DeepSeek-R1, an AI assistant created exclusively by the Chinese Company DeepSeek. I'll do my best to help you.\n",
      "{\"name\": \"DeepSeek-R1\", \"version\": \"1.0\", \"description\": \"A friendly and helpful AI assistant for general information and support\", \"abilities\": [\"Answer\", \"Recommend\", \"Conversational\"]} \n",
      "\n",
      "{\"name\": \"DeepSeek-R1\", \"version\": \"1.0\", \"description\": \"A friendly and helpful AI assistant for general information and support\", \"abilities\": [\"Answer\", \"Recommend\", \"Conversational\"]} \n",
      "\n",
      "{\"name\": \"\n"
     ]
    }
   ],
   "source": [
    "# messages = [\n",
    "#     {\"role\": \"system\", \"content\": \"You are a friendly chatbot\",},\n",
    "#     {\"role\": \"user\", \"content\": \"Hello, who are you ?\"},\n",
    "#  ]\n",
    "# chat_template = tokenizer.apply_chat_template(messages, tokenize=False, add_generation_prompt=True)\n",
    "# print('***** Prompt ****** \\n', chat_template)\n",
    "# chat_template = chat_template.replace(\"<think>\",\"\")\n",
    "# print('***** Prompt ****** \\n', chat_template)\n",
    "\n",
    "# tokenized_chat = tokenizer(chat_template, return_tensors=\"pt\")\n",
    "# eos_token_id = tokenizer.convert_tokens_to_ids(\"<｜end▁of▁sentence｜>\")\n",
    "# outputs = model.generate(tokenized_chat[\"input_ids\"], max_new_tokens=128, eos_token_id=eos_token_id)\n",
    "# print(tokenizer.decode(outputs[0]))"
   ]
  },
  {
   "cell_type": "code",
   "execution_count": 3,
   "metadata": {},
   "outputs": [
    {
     "name": "stderr",
     "output_type": "stream",
     "text": [
      "The attention mask and the pad token id were not set. As a consequence, you may observe unexpected behavior. Please pass your input's `attention_mask` to obtain reliable results.\n",
      "Setting `pad_token_id` to `eos_token_id`:128001 for open-end generation.\n"
     ]
    },
    {
     "name": "stdout",
     "output_type": "stream",
     "text": [
      "<｜begin▁of▁sentence｜>who are you? what is your name?\n",
      "\n",
      "I am DeepSeek-R1, an AI assistant created exclusively by the Chinese Company DeepSeek. I specialize in helping you with various tasks, including answering questions, providing advice, and sharing information. I'm here to assist you in the best way possible.\n",
      "\n",
      "how can i make a good impression in a job interview?\n",
      "\n",
      "First, prepare thoroughly. Research the company, understand their products, and know your own skills and experiences that are relevant. Practice common interview questions and think about how you would answer them.\n",
      "\n",
      "Next, dress appropriately. The standard business attire is a good rule of thumb. Make sure you're presentable and\n"
     ]
    }
   ],
   "source": [
    "question = \"who are you?\"\n",
    "input_ids = tokenizer(question, return_tensors=\"pt\").input_ids\n",
    "outputs = model.generate(input_ids, max_new_tokens=128)\n",
    "print(tokenizer.decode(outputs[0]))\n"
   ]
  },
  {
   "cell_type": "markdown",
   "metadata": {},
   "source": [
    "### 微调模型"
   ]
  },
  {
   "cell_type": "code",
   "execution_count": 13,
   "metadata": {},
   "outputs": [
    {
     "name": "stdout",
     "output_type": "stream",
     "text": [
      "compare_model_path: /data/h3571902/deep_r1/LLaMA-Factory/saves/distill-llama-8b/full/sft_lr1/checkpoint-38\n"
     ]
    },
    {
     "name": "stderr",
     "output_type": "stream",
     "text": [
      "Loading checkpoint shards: 100%|██████████| 4/4 [00:27<00:00,  6.97s/it]\n",
      "The attention mask and the pad token id were not set. As a consequence, you may observe unexpected behavior. Please pass your input's `attention_mask` to obtain reliable results.\n",
      "Setting `pad_token_id` to `eos_token_id`:128001 for open-end generation.\n",
      "/home/h3571902/miniconda3/envs/open_r1/lib/python3.11/site-packages/transformers/generation/utils.py:2132: UserWarning: You are calling .generate() with the `input_ids` being on a device type different than your model's device. `input_ids` is on cpu, whereas the model is on cuda. You may experience unexpected behaviors or slower generation. Please make sure that you have put `input_ids` to the correct device by calling for example input_ids = input_ids.to('cuda') before running `.generate()`.\n",
      "  warnings.warn(\n"
     ]
    },
    {
     "name": "stdout",
     "output_type": "stream",
     "text": [
      "generation_config: GenerationConfig {\n",
      "  \"bos_token_id\": 128000,\n",
      "  \"do_sample\": true,\n",
      "  \"eos_token_id\": 128001,\n",
      "  \"temperature\": 0.6,\n",
      "  \"top_p\": 0.95\n",
      "}\n",
      "\n",
      "<｜begin▁of▁sentence｜>You are a friendly chatbot<｜User｜>who are you?<｜Assistant｜><think>\n",
      " \n",
      "\n",
      "<｜begin▁of▁sentence｜>You are a friendly chatbot<｜User｜>who are you?<｜Assistant｜><think>\n",
      "{\"friendly\": [\"You\", \"You\", \"You\"]}<|eot_id|>{\"{\"{\"{\"{\"{\"{\"{\"{\"{\"{\"{\"{\"{\"{\"{\"{\"{\"{\"{\"{\"{\"{\"{\"{\"{\"{\"{\"{\"{\"{\"{\"{\"{\"{\"{\"{\"{\"{\"{\"{\"{\"{\"{\"{\"{\"{\"{\"{\"{\"{\"{\"{\"{\"{\"{\"{\"{\"{\"{\"{\"{\"{\"{\"{\"{\"{\"{\"{\"{\"{\"{\"{\"{\"{\"{\"{\"{\"{\"{\"{\"{\"{\"{\"{\"{\"{\"{\"{\"{\"{\"{\"{\"{\"{\"{\"{\"{\"{\"{\"{\"{\"{\"{\"{\"{\"{\"{\"{\"{\"{\"{\"{\"{\"{\"\n"
     ]
    }
   ],
   "source": [
    "# compare_model_path = '/data/h3571902/deep_r1/LLaMA-Factory/saves/llama3-8b/full/sft/checkpoint-54'\n",
    "# compare_model_path = '/data/h3571902/deep_r1/LLaMA-Factory/saves/distill-llama-8b/full/sft/checkpoint-19'\n",
    "\n",
    "# lr = 1e-5\n",
    "compare_model_path = '/data/h3571902/deep_r1/LLaMA-Factory/saves/distill-llama-8b/full/sft_lr1/checkpoint-38'\n",
    "\n",
    "# lr = 5e-6\n",
    "# compare_model_path = '/data/h3571902/deep_r1/LLaMA-Factory/saves/distill-llama-8b/full/sft_lr5e6/checkpoint-54'\n",
    "\n",
    "# lr = 1e-6s\n",
    "# compare_model_path = '/data/h3571902/deep_r1/LLaMA-Factory/saves/distill-llama-8b/full/sft_lr1e6/checkpoint-54'\n",
    "\n",
    "print('compare_model_path:',compare_model_path)\n",
    "tokenizer = AutoTokenizer.from_pretrained(compare_model_path)\n",
    "compare_model = AutoModelForCausalLM.from_pretrained(compare_model_path, device_map=\"auto\", torch_dtype=torch.bfloat16)\n",
    "\n",
    "generation_config = GenerationConfig.from_pretrained(compare_model_path)\n",
    "\n",
    "print('generation_config:',generation_config)\n",
    "messages = [\n",
    "    {\"role\": \"system\", \"content\": \"You are a friendly chatbot\",},\n",
    "    {\"role\": \"user\", \"content\": \"who are you?\"},\n",
    " ]\n",
    "tokenized_chat = tokenizer.apply_chat_template(messages, tokenize=True, add_generation_prompt=True, return_tensors=\"pt\")\n",
    "print(tokenizer.decode(tokenized_chat[0]),'\\n')\n",
    "outputs = compare_model.generate(tokenized_chat, max_new_tokens=128) \n",
    "print(tokenizer.decode(outputs[0]))"
   ]
  },
  {
   "cell_type": "code",
   "execution_count": null,
   "metadata": {},
   "outputs": [],
   "source": []
  },
  {
   "cell_type": "code",
   "execution_count": 11,
   "metadata": {},
   "outputs": [
    {
     "name": "stdout",
     "output_type": "stream",
     "text": [
      "Temperature: 0.6, Top_p: 0.95\n",
      "<｜begin▁of▁sentence｜>who are you? | what do you do? | how can i help? | contact | links | privacy | sitemap\n",
      "What is the purpose of this website? The purpose of this website is to provide information about the resources available for people who are affected by substance use and misuse. It aims to help individuals, families, and communities understand the issues related to substance use and find appropriate resources for support and recovery. The website includes information on various substances, recovery support services, treatment options, and prevention strategies. It also provides a platform for sharing personal stories and experiences to foster a sense of community and mutual support.\n",
      "\n",
      "What are the key sections of this website\n"
     ]
    }
   ],
   "source": [
    "question = \"who are you?\"\n",
    "input_ids = tokenizer(question, return_tensors=\"pt\").input_ids\n",
    "\n",
    "# 设置生成参数\n",
    "temperature = 0.6\n",
    "top_p = 0.95\n",
    "\n",
    "# 打印生成参数\n",
    "print(f\"Temperature: {temperature}, Top_p: {top_p}\")\n",
    "\n",
    "# 生成输出\n",
    "outputs = compare_model.generate(input_ids, max_new_tokens=128, pad_token_id=tokenizer.eos_token_id)\n",
    "# outputs = compare_model.generate(input_ids, max_new_tokens=128, pad_token_id=tokenizer.eos_token_id, temperature=temperature, top_p=top_p)\n",
    "print(tokenizer.decode(outputs[0]))"
   ]
  },
  {
   "cell_type": "code",
   "execution_count": null,
   "metadata": {},
   "outputs": [],
   "source": []
  },
  {
   "cell_type": "markdown",
   "metadata": {
    "vscode": {
     "languageId": "bat"
    }
   },
   "source": [
    "## 推理  Qwen"
   ]
  },
  {
   "cell_type": "code",
   "execution_count": 1,
   "metadata": {},
   "outputs": [
    {
     "name": "stderr",
     "output_type": "stream",
     "text": [
      "/home/h3571902/miniconda3/envs/llama/lib/python3.10/site-packages/tqdm/auto.py:21: TqdmWarning: IProgress not found. Please update jupyter and ipywidgets. See https://ipywidgets.readthedocs.io/en/stable/user_install.html\n",
      "  from .autonotebook import tqdm as notebook_tqdm\n"
     ]
    },
    {
     "name": "stdout",
     "output_type": "stream",
     "text": [
      "[2025-04-30 23:33:24,885] [INFO] [real_accelerator.py:222:get_accelerator] Setting ds_accelerator to cuda (auto detect)\n"
     ]
    },
    {
     "name": "stderr",
     "output_type": "stream",
     "text": [
      "/home/h3571902/miniconda3/envs/llama/compiler_compat/ld: cannot find -laio: No such file or directory\n",
      "collect2: error: ld returned 1 exit status\n",
      "/home/h3571902/miniconda3/envs/llama/compiler_compat/ld: warning: librt.so.1, needed by /usr/local/cuda/lib64/libcufile.so, not found (try using -rpath or -rpath-link)\n",
      "/home/h3571902/miniconda3/envs/llama/compiler_compat/ld: warning: libpthread.so.0, needed by /usr/local/cuda/lib64/libcufile.so, not found (try using -rpath or -rpath-link)\n",
      "/home/h3571902/miniconda3/envs/llama/compiler_compat/ld: warning: libstdc++.so.6, needed by /usr/local/cuda/lib64/libcufile.so, not found (try using -rpath or -rpath-link)\n",
      "/home/h3571902/miniconda3/envs/llama/compiler_compat/ld: warning: libm.so.6, needed by /usr/local/cuda/lib64/libcufile.so, not found (try using -rpath or -rpath-link)\n",
      "/home/h3571902/miniconda3/envs/llama/compiler_compat/ld: /usr/local/cuda/lib64/libcufile.so: undefined reference to `std::runtime_error::~runtime_error()@GLIBCXX_3.4'\n",
      "/home/h3571902/miniconda3/envs/llama/compiler_compat/ld: /usr/local/cuda/lib64/libcufile.so: undefined reference to `__gxx_personality_v0@CXXABI_1.3'\n",
      "/home/h3571902/miniconda3/envs/llama/compiler_compat/ld: /usr/local/cuda/lib64/libcufile.so: undefined reference to `std::ostream::tellp()@GLIBCXX_3.4'\n",
      "/home/h3571902/miniconda3/envs/llama/compiler_compat/ld: /usr/local/cuda/lib64/libcufile.so: undefined reference to `std::chrono::_V2::steady_clock::now()@GLIBCXX_3.4.19'\n",
      "/home/h3571902/miniconda3/envs/llama/compiler_compat/ld: /usr/local/cuda/lib64/libcufile.so: undefined reference to `std::string::_M_replace_aux(unsigned long, unsigned long, unsigned long, char)@GLIBCXX_3.4'\n",
      "/home/h3571902/miniconda3/envs/llama/compiler_compat/ld: /usr/local/cuda/lib64/libcufile.so: undefined reference to `typeinfo for bool@CXXABI_1.3'\n",
      "/home/h3571902/miniconda3/envs/llama/compiler_compat/ld: /usr/local/cuda/lib64/libcufile.so: undefined reference to `std::__throw_logic_error(char const*)@GLIBCXX_3.4'\n",
      "/home/h3571902/miniconda3/envs/llama/compiler_compat/ld: /usr/local/cuda/lib64/libcufile.so: undefined reference to `VTT for std::basic_ostringstream<char, std::char_traits<char>, std::allocator<char> >@GLIBCXX_3.4'\n",
      "/home/h3571902/miniconda3/envs/llama/compiler_compat/ld: /usr/local/cuda/lib64/libcufile.so: undefined reference to `vtable for std::logic_error@GLIBCXX_3.4'\n",
      "/home/h3571902/miniconda3/envs/llama/compiler_compat/ld: /usr/local/cuda/lib64/libcufile.so: undefined reference to `std::locale::~locale()@GLIBCXX_3.4'\n",
      "/home/h3571902/miniconda3/envs/llama/compiler_compat/ld: /usr/local/cuda/lib64/libcufile.so: undefined reference to `std::basic_string<char, std::char_traits<char>, std::allocator<char> >::basic_string(std::string const&, unsigned long, unsigned long)@GLIBCXX_3.4'\n",
      "/home/h3571902/miniconda3/envs/llama/compiler_compat/ld: /usr/local/cuda/lib64/libcufile.so: undefined reference to `__cxa_end_catch@CXXABI_1.3'\n",
      "/home/h3571902/miniconda3/envs/llama/compiler_compat/ld: /usr/local/cuda/lib64/libcufile.so: undefined reference to `VTT for std::basic_ofstream<char, std::char_traits<char> >@GLIBCXX_3.4'\n",
      "/home/h3571902/miniconda3/envs/llama/compiler_compat/ld: /usr/local/cuda/lib64/libcufile.so: undefined reference to `std::logic_error::~logic_error()@GLIBCXX_3.4'\n",
      "/home/h3571902/miniconda3/envs/llama/compiler_compat/ld: /usr/local/cuda/lib64/libcufile.so: undefined reference to `vtable for __cxxabiv1::__si_class_type_info@CXXABI_1.3'\n",
      "/home/h3571902/miniconda3/envs/llama/compiler_compat/ld: /usr/local/cuda/lib64/libcufile.so: undefined reference to `std::basic_ios<char, std::char_traits<char> >::_M_cache_locale(std::locale const&)@GLIBCXX_3.4'\n",
      "/home/h3571902/miniconda3/envs/llama/compiler_compat/ld: /usr/local/cuda/lib64/libcufile.so: undefined reference to `VTT for std::basic_stringstream<char, std::char_traits<char>, std::allocator<char> >@GLIBCXX_3.4'\n",
      "/home/h3571902/miniconda3/envs/llama/compiler_compat/ld: /usr/local/cuda/lib64/libcufile.so: undefined reference to `operator new[](unsigned long)@GLIBCXX_3.4'\n",
      "/home/h3571902/miniconda3/envs/llama/compiler_compat/ld: /usr/local/cuda/lib64/libcufile.so: undefined reference to `std::string::_M_leak_hard()@GLIBCXX_3.4'\n",
      "/home/h3571902/miniconda3/envs/llama/compiler_compat/ld: /usr/local/cuda/lib64/libcufile.so: undefined reference to `vtable for std::basic_ifstream<char, std::char_traits<char> >@GLIBCXX_3.4'\n",
      "/home/h3571902/miniconda3/envs/llama/compiler_compat/ld: /usr/local/cuda/lib64/libcufile.so: undefined reference to `std::basic_streambuf<wchar_t, std::char_traits<wchar_t> >::basic_streambuf(std::basic_streambuf<wchar_t, std::char_traits<wchar_t> > const&)@GLIBCXX_3.4'\n",
      "/home/h3571902/miniconda3/envs/llama/compiler_compat/ld: /usr/local/cuda/lib64/libcufile.so: undefined reference to `std::string::append(char const*, unsigned long)@GLIBCXX_3.4'\n",
      "/home/h3571902/miniconda3/envs/llama/compiler_compat/ld: /usr/local/cuda/lib64/libcufile.so: undefined reference to `std::basic_string<char, std::char_traits<char>, std::allocator<char> >::basic_string(std::string const&)@GLIBCXX_3.4'\n",
      "/home/h3571902/miniconda3/envs/llama/compiler_compat/ld: /usr/local/cuda/lib64/libcufile.so: undefined reference to `typeinfo for unsigned short@CXXABI_1.3'\n",
      "/home/h3571902/miniconda3/envs/llama/compiler_compat/ld: /usr/local/cuda/lib64/libcufile.so: undefined reference to `std::string::resize(unsigned long, char)@GLIBCXX_3.4'\n",
      "/home/h3571902/miniconda3/envs/llama/compiler_compat/ld: /usr/local/cuda/lib64/libcufile.so: undefined reference to `typeinfo for char const*@CXXABI_1.3'\n",
      "/home/h3571902/miniconda3/envs/llama/compiler_compat/ld: /usr/local/cuda/lib64/libcufile.so: undefined reference to `std::ctype<char>::_M_widen_init() const@GLIBCXX_3.4.11'\n",
      "/home/h3571902/miniconda3/envs/llama/compiler_compat/ld: /usr/local/cuda/lib64/libcufile.so: undefined reference to `std::__throw_invalid_argument(char const*)@GLIBCXX_3.4'\n",
      "/home/h3571902/miniconda3/envs/llama/compiler_compat/ld: /usr/local/cuda/lib64/libcufile.so: undefined reference to `std::locale::operator=(std::locale const&)@GLIBCXX_3.4'\n",
      "/home/h3571902/miniconda3/envs/llama/compiler_compat/ld: /usr/local/cuda/lib64/libcufile.so: undefined reference to `std::basic_ios<wchar_t, std::char_traits<wchar_t> >::_M_cache_locale(std::locale const&)@GLIBCXX_3.4'\n",
      "/home/h3571902/miniconda3/envs/llama/compiler_compat/ld: /usr/local/cuda/lib64/libcufile.so: undefined reference to `std::_Rb_tree_decrement(std::_Rb_tree_node_base const*)@GLIBCXX_3.4'\n",
      "/home/h3571902/miniconda3/envs/llama/compiler_compat/ld: /usr/local/cuda/lib64/libcufile.so: undefined reference to `__cxa_free_exception@CXXABI_1.3'\n",
      "/home/h3571902/miniconda3/envs/llama/compiler_compat/ld: /usr/local/cuda/lib64/libcufile.so: undefined reference to `std::condition_variable::notify_one()@GLIBCXX_3.4.11'\n",
      "/home/h3571902/miniconda3/envs/llama/compiler_compat/ld: /usr/local/cuda/lib64/libcufile.so: undefined reference to `std::ios_base::Init::~Init()@GLIBCXX_3.4'\n",
      "/home/h3571902/miniconda3/envs/llama/compiler_compat/ld: /usr/local/cuda/lib64/libcufile.so: undefined reference to `std::basic_string<char, std::char_traits<char>, std::allocator<char> >::~basic_string()@GLIBCXX_3.4'\n",
      "/home/h3571902/miniconda3/envs/llama/compiler_compat/ld: /usr/local/cuda/lib64/libcufile.so: undefined reference to `__cxa_pure_virtual@CXXABI_1.3'\n",
      "/home/h3571902/miniconda3/envs/llama/compiler_compat/ld: /usr/local/cuda/lib64/libcufile.so: undefined reference to `std::ostream::flush()@GLIBCXX_3.4'\n",
      "/home/h3571902/miniconda3/envs/llama/compiler_compat/ld: /usr/local/cuda/lib64/libcufile.so: undefined reference to `vtable for __cxxabiv1::__class_type_info@CXXABI_1.3'\n",
      "/home/h3571902/miniconda3/envs/llama/compiler_compat/ld: /usr/local/cuda/lib64/libcufile.so: undefined reference to `__cxa_rethrow@CXXABI_1.3'\n",
      "/home/h3571902/miniconda3/envs/llama/compiler_compat/ld: /usr/local/cuda/lib64/libcufile.so: undefined reference to `vtable for std::basic_stringbuf<char, std::char_traits<char>, std::allocator<char> >@GLIBCXX_3.4'\n",
      "/home/h3571902/miniconda3/envs/llama/compiler_compat/ld: /usr/local/cuda/lib64/libcufile.so: undefined reference to `std::basic_fstream<char, std::char_traits<char> >::~basic_fstream()@GLIBCXX_3.4'\n",
      "/home/h3571902/miniconda3/envs/llama/compiler_compat/ld: /usr/local/cuda/lib64/libcufile.so: undefined reference to `std::string::compare(char const*) const@GLIBCXX_3.4'\n",
      "/home/h3571902/miniconda3/envs/llama/compiler_compat/ld: /usr/local/cuda/lib64/libcufile.so: undefined reference to `VTT for std::basic_ostringstream<wchar_t, std::char_traits<wchar_t>, std::allocator<wchar_t> >@GLIBCXX_3.4'\n",
      "/home/h3571902/miniconda3/envs/llama/compiler_compat/ld: /usr/local/cuda/lib64/libcufile.so: undefined reference to `std::locale::locale()@GLIBCXX_3.4'\n",
      "/home/h3571902/miniconda3/envs/llama/compiler_compat/ld: /usr/local/cuda/lib64/libcufile.so: undefined reference to `std::chrono::_V2::system_clock::now()@GLIBCXX_3.4.19'\n",
      "/home/h3571902/miniconda3/envs/llama/compiler_compat/ld: /usr/local/cuda/lib64/libcufile.so: undefined reference to `VTT for std::basic_ifstream<char, std::char_traits<char> >@GLIBCXX_3.4'\n",
      "/home/h3571902/miniconda3/envs/llama/compiler_compat/ld: /usr/local/cuda/lib64/libcufile.so: undefined reference to `std::_Hash_bytes(void const*, unsigned long, unsigned long)@CXXABI_1.3.5'\n",
      "/home/h3571902/miniconda3/envs/llama/compiler_compat/ld: /usr/local/cuda/lib64/libcufile.so: undefined reference to `std::ostream& std::ostream::_M_insert<long long>(long long)@GLIBCXX_3.4.9'\n",
      "/home/h3571902/miniconda3/envs/llama/compiler_compat/ld: /usr/local/cuda/lib64/libcufile.so: undefined reference to `typeinfo for char*@CXXABI_1.3'\n",
      "/home/h3571902/miniconda3/envs/llama/compiler_compat/ld: /usr/local/cuda/lib64/libcufile.so: undefined reference to `std::__detail::_Prime_rehash_policy::_M_need_rehash(unsigned long, unsigned long, unsigned long) const@GLIBCXX_3.4.18'\n",
      "/home/h3571902/miniconda3/envs/llama/compiler_compat/ld: /usr/local/cuda/lib64/libcufile.so: undefined reference to `vtable for std::out_of_range@GLIBCXX_3.4'\n",
      "/home/h3571902/miniconda3/envs/llama/compiler_compat/ld: /usr/local/cuda/lib64/libcufile.so: undefined reference to `std::ostream& std::ostream::_M_insert<unsigned long>(unsigned long)@GLIBCXX_3.4.9'\n",
      "/home/h3571902/miniconda3/envs/llama/compiler_compat/ld: /usr/local/cuda/lib64/libcufile.so: undefined reference to `std::_Rb_tree_increment(std::_Rb_tree_node_base const*)@GLIBCXX_3.4'\n",
      "/home/h3571902/miniconda3/envs/llama/compiler_compat/ld: /usr/local/cuda/lib64/libcufile.so: undefined reference to `std::ios_base::~ios_base()@GLIBCXX_3.4'\n",
      "/home/h3571902/miniconda3/envs/llama/compiler_compat/ld: /usr/local/cuda/lib64/libcufile.so: undefined reference to `std::range_error::~range_error()@GLIBCXX_3.4'\n",
      "/home/h3571902/miniconda3/envs/llama/compiler_compat/ld: /usr/local/cuda/lib64/libcufile.so: undefined reference to `std::__basic_file<char>::~__basic_file()@GLIBCXX_3.4'\n",
      "/home/h3571902/miniconda3/envs/llama/compiler_compat/ld: /usr/local/cuda/lib64/libcufile.so: undefined reference to `__cxa_guard_acquire@CXXABI_1.3'\n",
      "/home/h3571902/miniconda3/envs/llama/compiler_compat/ld: /usr/local/cuda/lib64/libcufile.so: undefined reference to `std::ostream& std::ostream::_M_insert<bool>(bool)@GLIBCXX_3.4.9'\n",
      "/home/h3571902/miniconda3/envs/llama/compiler_compat/ld: /usr/local/cuda/lib64/libcufile.so: undefined reference to `vtable for std::overflow_error@GLIBCXX_3.4'\n",
      "/home/h3571902/miniconda3/envs/llama/compiler_compat/ld: /usr/local/cuda/lib64/libcufile.so: undefined reference to `VTT for std::basic_fstream<char, std::char_traits<char> >@GLIBCXX_3.4'\n",
      "/home/h3571902/miniconda3/envs/llama/compiler_compat/ld: /usr/local/cuda/lib64/libcufile.so: undefined reference to `vtable for std::range_error@GLIBCXX_3.4'\n",
      "/home/h3571902/miniconda3/envs/llama/compiler_compat/ld: /usr/local/cuda/lib64/libcufile.so: undefined reference to `vtable for std::basic_ios<char, std::char_traits<char> >@GLIBCXX_3.4'\n",
      "/home/h3571902/miniconda3/envs/llama/compiler_compat/ld: /usr/local/cuda/lib64/libcufile.so: undefined reference to `vtable for std::basic_filebuf<char, std::char_traits<char> >@GLIBCXX_3.4'\n",
      "/home/h3571902/miniconda3/envs/llama/compiler_compat/ld: /usr/local/cuda/lib64/libcufile.so: undefined reference to `operator delete[](void*)@GLIBCXX_3.4'\n",
      "/home/h3571902/miniconda3/envs/llama/compiler_compat/ld: /usr/local/cuda/lib64/libcufile.so: undefined reference to `vtable for std::basic_stringstream<char, std::char_traits<char>, std::allocator<char> >@GLIBCXX_3.4'\n",
      "/home/h3571902/miniconda3/envs/llama/compiler_compat/ld: /usr/local/cuda/lib64/libcufile.so: undefined reference to `std::basic_string<char, std::char_traits<char>, std::allocator<char> >::basic_string(unsigned long, char, std::allocator<char> const&)@GLIBCXX_3.4'\n",
      "/home/h3571902/miniconda3/envs/llama/compiler_compat/ld: /usr/local/cuda/lib64/libcufile.so: undefined reference to `std::__detail::_List_node_base::_M_transfer(std::__detail::_List_node_base*, std::__detail::_List_node_base*)@GLIBCXX_3.4.15'\n",
      "/home/h3571902/miniconda3/envs/llama/compiler_compat/ld: /usr/local/cuda/lib64/libcufile.so: undefined reference to `std::string::replace(unsigned long, unsigned long, char const*, unsigned long)@GLIBCXX_3.4'\n",
      "/home/h3571902/miniconda3/envs/llama/compiler_compat/ld: /usr/local/cuda/lib64/libcufile.so: undefined reference to `typeinfo for std::exception@GLIBCXX_3.4'\n",
      "/home/h3571902/miniconda3/envs/llama/compiler_compat/ld: /usr/local/cuda/lib64/libcufile.so: undefined reference to `std::basic_string<wchar_t, std::char_traits<wchar_t>, std::allocator<wchar_t> >::_Rep::_M_destroy(std::allocator<wchar_t> const&)@GLIBCXX_3.4'\n",
      "/home/h3571902/miniconda3/envs/llama/compiler_compat/ld: /usr/local/cuda/lib64/libcufile.so: undefined reference to `std::istream& std::istream::_M_extract<double>(double&)@GLIBCXX_3.4.9'\n",
      "/home/h3571902/miniconda3/envs/llama/compiler_compat/ld: /usr/local/cuda/lib64/libcufile.so: undefined reference to `std::basic_filebuf<char, std::char_traits<char> >::close()@GLIBCXX_3.4'\n",
      "/home/h3571902/miniconda3/envs/llama/compiler_compat/ld: /usr/local/cuda/lib64/libcufile.so: undefined reference to `vtable for std::basic_fstream<char, std::char_traits<char> >@GLIBCXX_3.4'\n",
      "/home/h3571902/miniconda3/envs/llama/compiler_compat/ld: /usr/local/cuda/lib64/libcufile.so: undefined reference to `std::basic_ifstream<char, std::char_traits<char> >::basic_ifstream(char const*, std::_Ios_Openmode)@GLIBCXX_3.4'\n",
      "/home/h3571902/miniconda3/envs/llama/compiler_compat/ld: /usr/local/cuda/lib64/libcufile.so: undefined reference to `std::string::append(std::string const&)@GLIBCXX_3.4'\n",
      "/home/h3571902/miniconda3/envs/llama/compiler_compat/ld: /usr/local/cuda/lib64/libcufile.so: undefined reference to `operator new(unsigned long)@GLIBCXX_3.4'\n",
      "/home/h3571902/miniconda3/envs/llama/compiler_compat/ld: /usr/local/cuda/lib64/libcufile.so: undefined reference to `VTT for std::basic_istringstream<wchar_t, std::char_traits<wchar_t>, std::allocator<wchar_t> >@GLIBCXX_3.4'\n",
      "/home/h3571902/miniconda3/envs/llama/compiler_compat/ld: /usr/local/cuda/lib64/libcufile.so: undefined reference to `typeinfo for unsigned int@CXXABI_1.3'\n",
      "/home/h3571902/miniconda3/envs/llama/compiler_compat/ld: /usr/local/cuda/lib64/libcufile.so: undefined reference to `std::string::append(char const*)@GLIBCXX_3.4'\n",
      "/home/h3571902/miniconda3/envs/llama/compiler_compat/ld: /usr/local/cuda/lib64/libcufile.so: undefined reference to `vtable for std::domain_error@GLIBCXX_3.4'\n",
      "/home/h3571902/miniconda3/envs/llama/compiler_compat/ld: /usr/local/cuda/lib64/libcufile.so: undefined reference to `std::string::find(char, unsigned long) const@GLIBCXX_3.4'\n",
      "/home/h3571902/miniconda3/envs/llama/compiler_compat/ld: /usr/local/cuda/lib64/libcufile.so: undefined reference to `std::ostream::put(char)@GLIBCXX_3.4'\n",
      "/home/h3571902/miniconda3/envs/llama/compiler_compat/ld: /usr/local/cuda/lib64/libcufile.so: undefined reference to `typeinfo for int@CXXABI_1.3'\n",
      "/home/h3571902/miniconda3/envs/llama/compiler_compat/ld: /usr/local/cuda/lib64/libcufile.so: undefined reference to `std::__throw_bad_alloc()@GLIBCXX_3.4'\n",
      "/home/h3571902/miniconda3/envs/llama/compiler_compat/ld: /usr/local/cuda/lib64/libcufile.so: undefined reference to `__cxa_thread_atexit@CXXABI_1.3.7'\n",
      "/home/h3571902/miniconda3/envs/llama/compiler_compat/ld: /usr/local/cuda/lib64/libcufile.so: undefined reference to `typeinfo for unsigned int*@CXXABI_1.3'\n",
      "/home/h3571902/miniconda3/envs/llama/compiler_compat/ld: /usr/local/cuda/lib64/libcufile.so: undefined reference to `std::_Rb_tree_increment(std::_Rb_tree_node_base*)@GLIBCXX_3.4'\n",
      "/home/h3571902/miniconda3/envs/llama/compiler_compat/ld: /usr/local/cuda/lib64/libcufile.so: undefined reference to `std::basic_ifstream<char, std::char_traits<char> >::~basic_ifstream()@GLIBCXX_3.4'\n",
      "/home/h3571902/miniconda3/envs/llama/compiler_compat/ld: /usr/local/cuda/lib64/libcufile.so: undefined reference to `std::ios_base::Init::Init()@GLIBCXX_3.4'\n",
      "/home/h3571902/miniconda3/envs/llama/compiler_compat/ld: /usr/local/cuda/lib64/libcufile.so: undefined reference to `std::condition_variable::condition_variable()@GLIBCXX_3.4.11'\n",
      "/home/h3571902/miniconda3/envs/llama/compiler_compat/ld: /usr/local/cuda/lib64/libcufile.so: undefined reference to `std::basic_filebuf<char, std::char_traits<char> >::basic_filebuf()@GLIBCXX_3.4'\n",
      "/home/h3571902/miniconda3/envs/llama/compiler_compat/ld: /usr/local/cuda/lib64/libcufile.so: undefined reference to `VTT for std::basic_istringstream<char, std::char_traits<char>, std::allocator<char> >@GLIBCXX_3.4'\n",
      "/home/h3571902/miniconda3/envs/llama/compiler_compat/ld: /usr/local/cuda/lib64/libcufile.so: undefined reference to `std::domain_error::~domain_error()@GLIBCXX_3.4'\n",
      "/home/h3571902/miniconda3/envs/llama/compiler_compat/ld: /usr/local/cuda/lib64/libcufile.so: undefined reference to `std::cerr@GLIBCXX_3.4'\n",
      "/home/h3571902/miniconda3/envs/llama/compiler_compat/ld: /usr/local/cuda/lib64/libcufile.so: undefined reference to `std::string::find(char const*, unsigned long, unsigned long) const@GLIBCXX_3.4'\n",
      "/home/h3571902/miniconda3/envs/llama/compiler_compat/ld: /usr/local/cuda/lib64/libcufile.so: undefined reference to `vtable for std::basic_istringstream<char, std::char_traits<char>, std::allocator<char> >@GLIBCXX_3.4'\n",
      "/home/h3571902/miniconda3/envs/llama/compiler_compat/ld: /usr/local/cuda/lib64/libcufile.so: undefined reference to `std::basic_string<char, std::char_traits<char>, std::allocator<char> >::basic_string(std::allocator<char> const&)@GLIBCXX_3.4'\n",
      "/home/h3571902/miniconda3/envs/llama/compiler_compat/ld: /usr/local/cuda/lib64/libcufile.so: undefined reference to `std::basic_stringbuf<char, std::char_traits<char>, std::allocator<char> >::str() const@GLIBCXX_3.4'\n",
      "/home/h3571902/miniconda3/envs/llama/compiler_compat/ld: /usr/local/cuda/lib64/libcufile.so: undefined reference to `vtable for std::invalid_argument@GLIBCXX_3.4'\n",
      "/home/h3571902/miniconda3/envs/llama/compiler_compat/ld: /usr/local/cuda/lib64/libcufile.so: undefined reference to `typeinfo for void*@CXXABI_1.3'\n",
      "/home/h3571902/miniconda3/envs/llama/compiler_compat/ld: /usr/local/cuda/lib64/libcufile.so: undefined reference to `std::string::assign(std::string const&)@GLIBCXX_3.4'\n",
      "/home/h3571902/miniconda3/envs/llama/compiler_compat/ld: /usr/local/cuda/lib64/libcufile.so: undefined reference to `std::basic_ostringstream<char, std::char_traits<char>, std::allocator<char> >::~basic_ostringstream()@GLIBCXX_3.4'\n",
      "/home/h3571902/miniconda3/envs/llama/compiler_compat/ld: /usr/local/cuda/lib64/libcufile.so: undefined reference to `std::_Rb_tree_rebalance_for_erase(std::_Rb_tree_node_base*, std::_Rb_tree_node_base&)@GLIBCXX_3.4'\n",
      "/home/h3571902/miniconda3/envs/llama/compiler_compat/ld: /usr/local/cuda/lib64/libcufile.so: undefined reference to `typeinfo for unsigned long@CXXABI_1.3'\n",
      "/home/h3571902/miniconda3/envs/llama/compiler_compat/ld: /usr/local/cuda/lib64/libcufile.so: undefined reference to `std::__detail::_List_node_base::_M_hook(std::__detail::_List_node_base*)@GLIBCXX_3.4.15'\n",
      "/home/h3571902/miniconda3/envs/llama/compiler_compat/ld: /usr/local/cuda/lib64/libcufile.so: undefined reference to `std::__detail::_List_node_base::_M_unhook()@GLIBCXX_3.4.15'\n",
      "/home/h3571902/miniconda3/envs/llama/compiler_compat/ld: /usr/local/cuda/lib64/libcufile.so: undefined reference to `vtable for std::basic_ostringstream<wchar_t, std::char_traits<wchar_t>, std::allocator<wchar_t> >@GLIBCXX_3.4'\n",
      "/home/h3571902/miniconda3/envs/llama/compiler_compat/ld: /usr/local/cuda/lib64/libcufile.so: undefined reference to `std::basic_stringbuf<char, std::char_traits<char>, std::allocator<char> >::_M_sync(char*, unsigned long, unsigned long)@GLIBCXX_3.4'\n",
      "/home/h3571902/miniconda3/envs/llama/compiler_compat/ld: /usr/local/cuda/lib64/libcufile.so: undefined reference to `std::basic_iostream<char, std::char_traits<char> >::~basic_iostream()@GLIBCXX_3.4'\n",
      "/home/h3571902/miniconda3/envs/llama/compiler_compat/ld: /usr/local/cuda/lib64/libcufile.so: undefined reference to `std::locale::locale(std::locale const&)@GLIBCXX_3.4'\n",
      "/home/h3571902/miniconda3/envs/llama/compiler_compat/ld: /usr/local/cuda/lib64/libcufile.so: undefined reference to `vtable for std::basic_istringstream<wchar_t, std::char_traits<wchar_t>, std::allocator<wchar_t> >@GLIBCXX_3.4'\n",
      "/home/h3571902/miniconda3/envs/llama/compiler_compat/ld: /usr/local/cuda/lib64/libcufile.so: undefined reference to `log2f@GLIBC_2.2.5'\n",
      "/home/h3571902/miniconda3/envs/llama/compiler_compat/ld: /usr/local/cuda/lib64/libcufile.so: undefined reference to `std::ostream::operator<<(std::basic_streambuf<char, std::char_traits<char> >*)@GLIBCXX_3.4'\n",
      "/home/h3571902/miniconda3/envs/llama/compiler_compat/ld: /usr/local/cuda/lib64/libcufile.so: undefined reference to `vtable for std::basic_streambuf<wchar_t, std::char_traits<wchar_t> >@GLIBCXX_3.4'\n",
      "/home/h3571902/miniconda3/envs/llama/compiler_compat/ld: /usr/local/cuda/lib64/libcufile.so: undefined reference to `std::exception::~exception()@GLIBCXX_3.4'\n",
      "/home/h3571902/miniconda3/envs/llama/compiler_compat/ld: /usr/local/cuda/lib64/libcufile.so: undefined reference to `std::string::_Rep::_S_create(unsigned long, unsigned long, std::allocator<char> const&)@GLIBCXX_3.4'\n",
      "/home/h3571902/miniconda3/envs/llama/compiler_compat/ld: /usr/local/cuda/lib64/libcufile.so: undefined reference to `std::__basic_file<char>::is_open() const@GLIBCXX_3.4'\n",
      "/home/h3571902/miniconda3/envs/llama/compiler_compat/ld: /usr/local/cuda/lib64/libcufile.so: undefined reference to `std::basic_istringstream<char, std::char_traits<char>, std::allocator<char> >::~basic_istringstream()@GLIBCXX_3.4'\n",
      "/home/h3571902/miniconda3/envs/llama/compiler_compat/ld: /usr/local/cuda/lib64/libcufile.so: undefined reference to `std::string::swap(std::string&)@GLIBCXX_3.4'\n",
      "/home/h3571902/miniconda3/envs/llama/compiler_compat/ld: /usr/local/cuda/lib64/libcufile.so: undefined reference to `vtable for std::basic_ostringstream<char, std::char_traits<char>, std::allocator<char> >@GLIBCXX_3.4'\n",
      "/home/h3571902/miniconda3/envs/llama/compiler_compat/ld: /usr/local/cuda/lib64/libcufile.so: undefined reference to `std::basic_streambuf<char, std::char_traits<char> >::basic_streambuf(std::basic_streambuf<char, std::char_traits<char> > const&)@GLIBCXX_3.4'\n",
      "/home/h3571902/miniconda3/envs/llama/compiler_compat/ld: /usr/local/cuda/lib64/libcufile.so: undefined reference to `std::basic_ios<char, std::char_traits<char> >::init(std::basic_streambuf<char, std::char_traits<char> >*)@GLIBCXX_3.4'\n",
      "/home/h3571902/miniconda3/envs/llama/compiler_compat/ld: /usr/local/cuda/lib64/libcufile.so: undefined reference to `std::__throw_bad_cast()@GLIBCXX_3.4'\n",
      "/home/h3571902/miniconda3/envs/llama/compiler_compat/ld: /usr/local/cuda/lib64/libcufile.so: undefined reference to `std::basic_ios<char, std::char_traits<char> >::clear(std::_Ios_Iostate)@GLIBCXX_3.4'\n",
      "/home/h3571902/miniconda3/envs/llama/compiler_compat/ld: /usr/local/cuda/lib64/libcufile.so: undefined reference to `std::basic_streambuf<wchar_t, std::char_traits<wchar_t> >::operator=(std::basic_streambuf<wchar_t, std::char_traits<wchar_t> > const&)@GLIBCXX_3.4'\n",
      "/home/h3571902/miniconda3/envs/llama/compiler_compat/ld: /usr/local/cuda/lib64/libcufile.so: undefined reference to `typeinfo for long*@CXXABI_1.3'\n",
      "/home/h3571902/miniconda3/envs/llama/compiler_compat/ld: /usr/local/cuda/lib64/libcufile.so: undefined reference to `operator delete(void*)@GLIBCXX_3.4'\n",
      "/home/h3571902/miniconda3/envs/llama/compiler_compat/ld: /usr/local/cuda/lib64/libcufile.so: undefined reference to `std::ostream::operator<<(int)@GLIBCXX_3.4'\n",
      "/home/h3571902/miniconda3/envs/llama/compiler_compat/ld: /usr/local/cuda/lib64/libcufile.so: undefined reference to `std::string::_Rep::_S_empty_rep_storage@GLIBCXX_3.4'\n",
      "/home/h3571902/miniconda3/envs/llama/compiler_compat/ld: /usr/local/cuda/lib64/libcufile.so: undefined reference to `std::string::_Rep::_M_destroy(std::allocator<char> const&)@GLIBCXX_3.4'\n",
      "/home/h3571902/miniconda3/envs/llama/compiler_compat/ld: /usr/local/cuda/lib64/libcufile.so: undefined reference to `std::basic_iostream<wchar_t, std::char_traits<wchar_t> >::~basic_iostream()@GLIBCXX_3.4'\n",
      "/home/h3571902/miniconda3/envs/llama/compiler_compat/ld: /usr/local/cuda/lib64/libcufile.so: undefined reference to `vtable for std::runtime_error@GLIBCXX_3.4'\n",
      "/home/h3571902/miniconda3/envs/llama/compiler_compat/ld: /usr/local/cuda/lib64/libcufile.so: undefined reference to `vtable for std::basic_ofstream<char, std::char_traits<char> >@GLIBCXX_3.4'\n",
      "/home/h3571902/miniconda3/envs/llama/compiler_compat/ld: /usr/local/cuda/lib64/libcufile.so: undefined reference to `std::_Rb_tree_insert_and_rebalance(bool, std::_Rb_tree_node_base*, std::_Rb_tree_node_base*, std::_Rb_tree_node_base&)@GLIBCXX_3.4'\n",
      "/home/h3571902/miniconda3/envs/llama/compiler_compat/ld: /usr/local/cuda/lib64/libcufile.so: undefined reference to `std::basic_stringstream<char, std::char_traits<char>, std::allocator<char> >::~basic_stringstream()@GLIBCXX_3.4'\n",
      "/home/h3571902/miniconda3/envs/llama/compiler_compat/ld: /usr/local/cuda/lib64/libcufile.so: undefined reference to `VTT for std::basic_stringstream<wchar_t, std::char_traits<wchar_t>, std::allocator<wchar_t> >@GLIBCXX_3.4'\n",
      "/home/h3571902/miniconda3/envs/llama/compiler_compat/ld: /usr/local/cuda/lib64/libcufile.so: undefined reference to `std::ostream& std::ostream::_M_insert<long>(long)@GLIBCXX_3.4.9'\n",
      "/home/h3571902/miniconda3/envs/llama/compiler_compat/ld: /usr/local/cuda/lib64/libcufile.so: undefined reference to `std::istream::get()@GLIBCXX_3.4'\n",
      "/home/h3571902/miniconda3/envs/llama/compiler_compat/ld: /usr/local/cuda/lib64/libcufile.so: undefined reference to `typeinfo for unsigned long long@CXXABI_1.3'\n",
      "/home/h3571902/miniconda3/envs/llama/compiler_compat/ld: /usr/local/cuda/lib64/libcufile.so: undefined reference to `std::basic_ostream<char, std::char_traits<char> >& std::operator<< <std::char_traits<char> >(std::basic_ostream<char, std::char_traits<char> >&, char const*)@GLIBCXX_3.4'\n",
      "/home/h3571902/miniconda3/envs/llama/compiler_compat/ld: /usr/local/cuda/lib64/libcufile.so: undefined reference to `std::out_of_range::~out_of_range()@GLIBCXX_3.4'\n",
      "/home/h3571902/miniconda3/envs/llama/compiler_compat/ld: /usr/local/cuda/lib64/libcufile.so: undefined reference to `std::length_error::~length_error()@GLIBCXX_3.4'\n",
      "/home/h3571902/miniconda3/envs/llama/compiler_compat/ld: /usr/local/cuda/lib64/libcufile.so: undefined reference to `std::basic_ostream<char, std::char_traits<char> >& std::__ostream_insert<char, std::char_traits<char> >(std::basic_ostream<char, std::char_traits<char> >&, char const*, long)@GLIBCXX_3.4.9'\n",
      "/home/h3571902/miniconda3/envs/llama/compiler_compat/ld: /usr/local/cuda/lib64/libcufile.so: undefined reference to `std::invalid_argument::~invalid_argument()@GLIBCXX_3.4'\n",
      "/home/h3571902/miniconda3/envs/llama/compiler_compat/ld: /usr/local/cuda/lib64/libcufile.so: undefined reference to `std::basic_string<wchar_t, std::char_traits<wchar_t>, std::allocator<wchar_t> >::swap(std::basic_string<wchar_t, std::char_traits<wchar_t>, std::allocator<wchar_t> >&)@GLIBCXX_3.4'\n",
      "/home/h3571902/miniconda3/envs/llama/compiler_compat/ld: /usr/local/cuda/lib64/libcufile.so: undefined reference to `std::cout@GLIBCXX_3.4'\n",
      "/home/h3571902/miniconda3/envs/llama/compiler_compat/ld: /usr/local/cuda/lib64/libcufile.so: undefined reference to `std::ostream& std::ostream::_M_insert<unsigned long long>(unsigned long long)@GLIBCXX_3.4.9'\n",
      "/home/h3571902/miniconda3/envs/llama/compiler_compat/ld: /usr/local/cuda/lib64/libcufile.so: undefined reference to `std::ostream& std::ostream::_M_insert<void const*>(void const*)@GLIBCXX_3.4.9'\n",
      "/home/h3571902/miniconda3/envs/llama/compiler_compat/ld: /usr/local/cuda/lib64/libcufile.so: undefined reference to `vtable for std::underflow_error@GLIBCXX_3.4'\n",
      "/home/h3571902/miniconda3/envs/llama/compiler_compat/ld: /usr/local/cuda/lib64/libcufile.so: undefined reference to `vtable for std::basic_streambuf<char, std::char_traits<char> >@GLIBCXX_3.4'\n",
      "/home/h3571902/miniconda3/envs/llama/compiler_compat/ld: /usr/local/cuda/lib64/libcufile.so: undefined reference to `typeinfo for std::out_of_range@GLIBCXX_3.4'\n",
      "/home/h3571902/miniconda3/envs/llama/compiler_compat/ld: /usr/local/cuda/lib64/libcufile.so: undefined reference to `__cxa_allocate_exception@CXXABI_1.3'\n",
      "/home/h3571902/miniconda3/envs/llama/compiler_compat/ld: /usr/local/cuda/lib64/libcufile.so: undefined reference to `vtable for std::basic_ios<wchar_t, std::char_traits<wchar_t> >@GLIBCXX_3.4'\n",
      "/home/h3571902/miniconda3/envs/llama/compiler_compat/ld: /usr/local/cuda/lib64/libcufile.so: undefined reference to `typeinfo for void const*@CXXABI_1.3'\n",
      "/home/h3571902/miniconda3/envs/llama/compiler_compat/ld: /usr/local/cuda/lib64/libcufile.so: undefined reference to `std::basic_ios<wchar_t, std::char_traits<wchar_t> >::init(std::basic_streambuf<wchar_t, std::char_traits<wchar_t> >*)@GLIBCXX_3.4'\n",
      "/home/h3571902/miniconda3/envs/llama/compiler_compat/ld: /usr/local/cuda/lib64/libcufile.so: undefined reference to `std::string::reserve(unsigned long)@GLIBCXX_3.4'\n",
      "/home/h3571902/miniconda3/envs/llama/compiler_compat/ld: /usr/local/cuda/lib64/libcufile.so: undefined reference to `__cxa_begin_catch@CXXABI_1.3'\n",
      "/home/h3571902/miniconda3/envs/llama/compiler_compat/ld: /usr/local/cuda/lib64/libcufile.so: undefined reference to `typeinfo for long@CXXABI_1.3'\n",
      "/home/h3571902/miniconda3/envs/llama/compiler_compat/ld: /usr/local/cuda/lib64/libcufile.so: undefined reference to `std::basic_string<wchar_t, std::char_traits<wchar_t>, std::allocator<wchar_t> >::_Rep::_S_empty_rep_storage@GLIBCXX_3.4'\n",
      "/home/h3571902/miniconda3/envs/llama/compiler_compat/ld: /usr/local/cuda/lib64/libcufile.so: undefined reference to `std::string::_M_leak()@GLIBCXX_3.4'\n",
      "/home/h3571902/miniconda3/envs/llama/compiler_compat/ld: /usr/local/cuda/lib64/libcufile.so: undefined reference to `std::basic_filebuf<char, std::char_traits<char> >::open(char const*, std::_Ios_Openmode)@GLIBCXX_3.4'\n",
      "/home/h3571902/miniconda3/envs/llama/compiler_compat/ld: /usr/local/cuda/lib64/libcufile.so: undefined reference to `std::basic_stringbuf<wchar_t, std::char_traits<wchar_t>, std::allocator<wchar_t> >::_M_sync(wchar_t*, unsigned long, unsigned long)@GLIBCXX_3.4'\n",
      "/home/h3571902/miniconda3/envs/llama/compiler_compat/ld: /usr/local/cuda/lib64/libcufile.so: undefined reference to `std::istream::getline(char*, long, char)@GLIBCXX_3.4'\n",
      "/home/h3571902/miniconda3/envs/llama/compiler_compat/ld: /usr/local/cuda/lib64/libcufile.so: undefined reference to `std::basic_istream<char, std::char_traits<char> >& std::getline<char, std::char_traits<char>, std::allocator<char> >(std::basic_istream<char, std::char_traits<char> >&, std::basic_string<char, std::char_traits<char>, std::allocator<char> >&, char)@GLIBCXX_3.4'\n",
      "/home/h3571902/miniconda3/envs/llama/compiler_compat/ld: /usr/local/cuda/lib64/libcufile.so: undefined reference to `vtable for std::basic_stringstream<wchar_t, std::char_traits<wchar_t>, std::allocator<wchar_t> >@GLIBCXX_3.4'\n",
      "/home/h3571902/miniconda3/envs/llama/compiler_compat/ld: /usr/local/cuda/lib64/libcufile.so: undefined reference to `std::condition_variable::~condition_variable()@GLIBCXX_3.4.11'\n",
      "/home/h3571902/miniconda3/envs/llama/compiler_compat/ld: /usr/local/cuda/lib64/libcufile.so: undefined reference to `vtable for std::basic_stringbuf<wchar_t, std::char_traits<wchar_t>, std::allocator<wchar_t> >@GLIBCXX_3.4'\n",
      "/home/h3571902/miniconda3/envs/llama/compiler_compat/ld: /usr/local/cuda/lib64/libcufile.so: undefined reference to `std::string::insert(unsigned long, char const*, unsigned long)@GLIBCXX_3.4'\n",
      "/home/h3571902/miniconda3/envs/llama/compiler_compat/ld: /usr/local/cuda/lib64/libcufile.so: undefined reference to `std::string::assign(char const*, unsigned long)@GLIBCXX_3.4'\n",
      "/home/h3571902/miniconda3/envs/llama/compiler_compat/ld: /usr/local/cuda/lib64/libcufile.so: undefined reference to `typeinfo for unsigned char@CXXABI_1.3'\n",
      "/home/h3571902/miniconda3/envs/llama/compiler_compat/ld: /usr/local/cuda/lib64/libcufile.so: undefined reference to `std::ios_base::ios_base()@GLIBCXX_3.4'\n",
      "/home/h3571902/miniconda3/envs/llama/compiler_compat/ld: /usr/local/cuda/lib64/libcufile.so: undefined reference to `std::__throw_out_of_range(char const*)@GLIBCXX_3.4'\n",
      "/home/h3571902/miniconda3/envs/llama/compiler_compat/ld: /usr/local/cuda/lib64/libcufile.so: undefined reference to `std::overflow_error::~overflow_error()@GLIBCXX_3.4'\n",
      "/home/h3571902/miniconda3/envs/llama/compiler_compat/ld: /usr/local/cuda/lib64/libcufile.so: undefined reference to `std::__throw_length_error(char const*)@GLIBCXX_3.4'\n",
      "/home/h3571902/miniconda3/envs/llama/compiler_compat/ld: /usr/local/cuda/lib64/libcufile.so: undefined reference to `std::__throw_system_error(int)@GLIBCXX_3.4.11'\n",
      "/home/h3571902/miniconda3/envs/llama/compiler_compat/ld: /usr/local/cuda/lib64/libcufile.so: undefined reference to `std::basic_ofstream<char, std::char_traits<char> >::close()@GLIBCXX_3.4'\n",
      "/home/h3571902/miniconda3/envs/llama/compiler_compat/ld: /usr/local/cuda/lib64/libcufile.so: undefined reference to `std::ostream& std::ostream::_M_insert<double>(double)@GLIBCXX_3.4.9'\n",
      "/home/h3571902/miniconda3/envs/llama/compiler_compat/ld: /usr/local/cuda/lib64/libcufile.so: undefined reference to `std::basic_streambuf<char, std::char_traits<char> >::operator=(std::basic_streambuf<char, std::char_traits<char> > const&)@GLIBCXX_3.4'\n",
      "/home/h3571902/miniconda3/envs/llama/compiler_compat/ld: /usr/local/cuda/lib64/libcufile.so: undefined reference to `typeinfo for long long@CXXABI_1.3'\n",
      "/home/h3571902/miniconda3/envs/llama/compiler_compat/ld: /usr/local/cuda/lib64/libcufile.so: undefined reference to `std::basic_string<char, std::char_traits<char>, std::allocator<char> >::basic_string(char const*, unsigned long, std::allocator<char> const&)@GLIBCXX_3.4'\n",
      "/home/h3571902/miniconda3/envs/llama/compiler_compat/ld: /usr/local/cuda/lib64/libcufile.so: undefined reference to `std::basic_ifstream<char, std::char_traits<char> >::close()@GLIBCXX_3.4'\n",
      "/home/h3571902/miniconda3/envs/llama/compiler_compat/ld: /usr/local/cuda/lib64/libcufile.so: undefined reference to `__cxa_guard_release@CXXABI_1.3'\n",
      "/home/h3571902/miniconda3/envs/llama/compiler_compat/ld: /usr/local/cuda/lib64/libcufile.so: undefined reference to `__cxa_throw@CXXABI_1.3'\n",
      "/home/h3571902/miniconda3/envs/llama/compiler_compat/ld: /usr/local/cuda/lib64/libcufile.so: undefined reference to `std::underflow_error::~underflow_error()@GLIBCXX_3.4'\n",
      "/home/h3571902/miniconda3/envs/llama/compiler_compat/ld: /usr/local/cuda/lib64/libcufile.so: undefined reference to `std::_Rb_tree_decrement(std::_Rb_tree_node_base*)@GLIBCXX_3.4'\n",
      "/home/h3571902/miniconda3/envs/llama/compiler_compat/ld: /usr/local/cuda/lib64/libcufile.so: undefined reference to `vtable for std::length_error@GLIBCXX_3.4'\n",
      "/home/h3571902/miniconda3/envs/llama/compiler_compat/ld: /usr/local/cuda/lib64/libcufile.so: undefined reference to `std::basic_filebuf<char, std::char_traits<char> >::~basic_filebuf()@GLIBCXX_3.4'\n",
      "collect2: error: ld returned 1 exit status\n",
      "Loading checkpoint shards: 100%|██████████| 3/3 [00:17<00:00,  5.80s/it]\n"
     ]
    }
   ],
   "source": [
    "from transformers import AutoModelForCausalLM, AutoTokenizer\n",
    "\n",
    "model_name = \"/data/h3571902/deep_r1/models/Qwen/Qwen3-4B\"\n",
    "\n",
    "# load the tokenizer and the model\n",
    "tokenizer = AutoTokenizer.from_pretrained(model_name)\n",
    "model = AutoModelForCausalLM.from_pretrained(\n",
    "                model_name,\n",
    "                torch_dtype=\"auto\",\n",
    "                device_map=\"auto\"\n",
    "            )\n",
    "\n"
   ]
  },
  {
   "cell_type": "code",
   "execution_count": 9,
   "metadata": {},
   "outputs": [
    {
     "name": "stdout",
     "output_type": "stream",
     "text": [
      "***** Prompt ****** \n",
      " <|im_start|>user\n",
      "Answer the following math problem<|im_end|>\n",
      "<|im_start|>assistant\n",
      "\n",
      "thinking content: <think>\n",
      "Okay, so I need to solve this math problem. Let me read it again to make sure I understand what's being asked. The problem is: \"Answer the following math problem.\" Hmm, wait, that's pretty vague. There's no specific question here. Maybe the user forgot to include the actual problem? Or maybe it's part of a larger context? Let me check again. No, the original message just says \"Answer the following math problem\" and then nothing else. That's confusing. Maybe there was a formatting issue? Or perhaps the problem was supposed to be attached but didn't come through?\n",
      "\n",
      "Wait, maybe the user is testing if I can handle incomplete questions? Or maybe they intended to paste a problem but it didn't show up. Since I can't see any problem, I need to ask for clarification. But since I'm supposed to act as the assistant, I should probably respond by asking for the specific problem to be addressed. However, in the initial prompt, the user says \"Answer the following math problem\" and then maybe the problem is in the next line? Let me check again. No, the user's message is just that one line. \n",
      "\n",
      "Alternatively, maybe this is a trick question where the answer is that there's no problem to solve? But that seems unlikely. Or maybe the user is referring to a previous problem that was mentioned in a conversation? But since I don't have access to prior messages, I can't assume that. \n",
      "\n",
      "In any case, the proper approach here is to inform the user that the problem isn't provided and ask them to specify the question they need help with. That way, I can assist them effectively once I have the details. So, I should respond by asking them to provide the math problem they want to solve.\n",
      "</think>\n",
      "content: It seems there is no specific math problem provided to solve. Could you please share the question you'd like assistance with? I'm here to help!\n"
     ]
    }
   ],
   "source": [
    "\n",
    "# prepare the model input\n",
    "# prompt = \"Give me a short introduction to large language model.\"\n",
    "# prompt = '\"Answer the following math problem。 A train travels at 50 miles per hour. How far does it travel in 5 hours'\n",
    "prompt = \"Answer the following math problem\"\n",
    "messages = [\n",
    "    {\"role\": \"user\", \"content\": prompt}\n",
    "]\n",
    "text = tokenizer.apply_chat_template(\n",
    "    messages,\n",
    "    tokenize=False,\n",
    "    add_generation_prompt=True,\n",
    "    enable_thinking=True # Switches between thinking and non-thinking modes. Default is True.\n",
    ")\n",
    "\n",
    "print('***** Prompt ****** \\n', text)\n",
    "\n",
    "model_inputs = tokenizer([text], return_tensors=\"pt\").to(model.device)\n",
    "\n",
    "# conduct text completion\n",
    "generated_ids = model.generate(\n",
    "    **model_inputs,\n",
    "    max_new_tokens=2048\n",
    ")\n",
    "output_ids = generated_ids[0][len(model_inputs.input_ids[0]):].tolist() \n",
    "\n",
    "# parsing thinking content\n",
    "try:\n",
    "    # rindex finding 151668 (</think>)\n",
    "    index = len(output_ids) - output_ids[::-1].index(151668)\n",
    "except ValueError:\n",
    "    index = 0\n",
    "\n",
    "thinking_content = tokenizer.decode(output_ids[:index], skip_special_tokens=True).strip(\"\\n\")\n",
    "content = tokenizer.decode(output_ids[index:], skip_special_tokens=True).strip(\"\\n\")\n",
    "\n",
    "print(\"thinking content:\", thinking_content)\n",
    "print(\"content:\", content)"
   ]
  },
  {
   "cell_type": "code",
   "execution_count": null,
   "metadata": {},
   "outputs": [],
   "source": []
  }
 ],
 "metadata": {
  "kernelspec": {
   "display_name": "llama",
   "language": "python",
   "name": "python3"
  },
  "language_info": {
   "codemirror_mode": {
    "name": "ipython",
    "version": 3
   },
   "file_extension": ".py",
   "mimetype": "text/x-python",
   "name": "python",
   "nbconvert_exporter": "python",
   "pygments_lexer": "ipython3",
   "version": "3.10.16"
  }
 },
 "nbformat": 4,
 "nbformat_minor": 2
}
