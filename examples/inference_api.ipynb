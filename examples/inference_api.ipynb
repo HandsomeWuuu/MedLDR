{
 "cells": [
  {
   "cell_type": "markdown",
   "metadata": {},
   "source": []
  },
  {
   "cell_type": "markdown",
   "metadata": {},
   "source": [
    "## Prepare the model"
   ]
  },
  {
   "cell_type": "code",
   "execution_count": null,
   "metadata": {},
   "outputs": [],
   "source": [
    "from inference.chat_api.chat_claude_sonnet_4 import chat_claude_sonnet_4\n",
    "import requests\n",
    "client = requests.Session()\n",
    "\n",
    "# set your API key to environment variable or directly assign it here\n",
    "import os\n",
    "os.environ[\"API_KEY\"] = \"sk-xxxx\"  # replace with your actual API key"
   ]
  },
  {
   "cell_type": "markdown",
   "metadata": {},
   "source": [
    "## Prepare the input"
   ]
  },
  {
   "cell_type": "code",
   "execution_count": null,
   "metadata": {},
   "outputs": [],
   "source": [
    "system_message = '''\n",
    "As a medical diagnosis assistant, strictly follow the steps below:\n",
    "\n",
    "1. Generate the top 10 diseases with the highest confidence from the 40 diseases listed below (use only ICD codes, do not include disease names), sorted in descending order of confidence.\n",
    "   - Ensure all codes come from the given list.\n",
    "   - Correct example format: [\"5849\", \"34982\", ...]\n",
    "\n",
    "2. From the top 10, filter 1-3 diseases with extremely high confidence (codes only), ensuring:\n",
    "   - Only retain diseases with confidence significantly higher than other options.\n",
    "   - Maintain descending order.\n",
    "   - Correct example format: [\"42823\", \"51884\"]\n",
    "\n",
    "Strictly follow the JSON format below (violations will result in system errors):\n",
    "{\n",
    "    \"top10\": [\"icd_code1\", \"icd_code2\", ..., \"icd_code10\"],  // Must contain 10 strings\n",
    "    \"predictions\": [\"highest_code\"]  // 1-3 strings\n",
    "}\n",
    "\n",
    "Do not include:\n",
    "- Disease names or mixed formats (e.g., \"Acute kidney failure\")\n",
    "- Object structures (e.g., {\"icd_code\": ...})\n",
    "- Codes not in the list (e.g., \".77\")\n",
    "- Extra comments or unclosed code blocks\n",
    "Each disease corresponds to the format icd_code:icd_name (Note: only use codes in the output):\n",
    "[ 5849:Acute kidney failure, unspecified; 34982:Toxic encephalopathy;42823:Acute on chronic systolic heart failure; 262:Other severe protein-calorie malnutrition;43491:Cerebral artery occlusion, unspecified with cerebral infarction; 29181:Alcohol withdrawal;43411:Cerebral embolism with cerebral infarction; 5990:Urinary tract infection, site not specified;99591:Sepsis; 40491:Hypertensive heart and chronic kidney disease, unspecified, with heart failure and with chronic kidney disease stage I through stage IV, or unspecified; 40291:Unspecified hypertensive heart disease with heart failure; 5770:Acute pancreatitis; 486:Pneumonia, organism unspecified; 99859:Other postoperative infection; 431:Intracerebral hemorrhage; 34830:Encephalopathy, unspecified; 40391:Hypertensive chronic kidney disease, unspecified, with chronic kidney disease stage V or end stage renal disease; 51881:Acute respiratory failure; 5070:Pneumonitis due to inhalation of food or vomitus; 0389:Unspecified septicemia; 41071:Subendocardial infarction, initial episode of care; 28419:Other pancytopenia; 41401:Coronary atherosclerosis of native coronary artery; 7802:Syncope and collapse; 25080:Diabetes with other specified manifestations, type II or unspecified type, not stated as uncontrolled;42731:Atrial fibrillation; 27651:Dehydration; 4589:Hypotension, unspecified; 2851:Acute posthemorrhagic anemia; 5762:Obstruction of bile duct; 42833:Acute on chronic diastolic heart failure;34831:Metabolic encephalopathy; 2762:Acidosis; 4019:Unspecified essential hypertension; 6827:Cellulitis and abscess of foot, except toes; 2761:Hyposmolality and/or hyponatremia; 5845:Acute kidney failure with lesion of tubular necrosis; 51884:Acute and chronic respiratory failure; 311:Depressive disorder, not elsewhere classified; 41519:Other pulmonary embolism and infarction ]\n",
    "'''\n",
    "\n",
    "content_path = './case_0.txt'\n",
    "with open(content_path, 'r') as f:\n",
    "   input_content = f.read()\n"
   ]
  },
  {
   "cell_type": "markdown",
   "metadata": {},
   "source": [
    "## Inference model"
   ]
  },
  {
   "cell_type": "code",
   "execution_count": null,
   "metadata": {},
   "outputs": [],
   "source": [
    "response, token_dict = chat_claude_sonnet_4(client, system_message, input_content)\n",
    "print(\"Response:\", response)\n",
    "print(\"Token usage:\", token_dict)"
   ]
  }
 ],
 "metadata": {
  "language_info": {
   "name": "python"
  }
 },
 "nbformat": 4,
 "nbformat_minor": 2
}
