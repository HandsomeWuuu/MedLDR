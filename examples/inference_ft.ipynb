{
 "cells": [
  {
   "cell_type": "markdown",
   "metadata": {},
   "source": [
    "## Prepare the model"
   ]
  },
  {
   "cell_type": "code",
   "execution_count": null,
   "metadata": {},
   "outputs": [],
   "source": [
    "from transformers import AutoTokenizer\n",
    "import torch\n",
    "from vllm import LLM,SamplingParams\n",
    "\n",
    "model_path = \"./DeepSeek-R1-Distill-Llama-8B-SFT\"\n",
    "\n",
    "tokenizer = AutoTokenizer.from_pretrained(model_path)\n",
    "tokenizer.pad_token_id = tokenizer.eos_token_id\n",
    "\n",
    "model = LLM(model=model_path)\n"
   ]
  },
  {
   "cell_type": "markdown",
   "metadata": {},
   "source": [
    "## Prepare the input"
   ]
  },
  {
   "cell_type": "code",
   "execution_count": null,
   "metadata": {},
   "outputs": [],
   "source": [
    "prompt = \"\"\"\\\n",
    "Act as a clinical coding assistant. Based on the patient's medical records, \\\n",
    "output ONLY the top 1-3 most probable ICD codes from the provided disease list. \\\n",
    "Strictly format as valid JSON with a \"diagnoses\" array containing codes ordered by \\\n",
    "descending probability. Use only codes from the predefined 50-disease ICD list. \\\n",
    "Omit all explanatory text. Example output format: {\"diagnoses\": [\"code1\", \"code2\", ...]}\"\"\"\n",
    "\n",
    "content_path = './case_0.txt'\n",
    "with open(content_path, 'r') as f:\n",
    "    input_content = f.read()\n",
    "\n",
    "messages = [{\"role\": \"system\", \"content\": prompt},\n",
    "            {\"role\": \"user\", \"content\": input_content},\n",
    "            ]\n",
    "\n",
    "input_temp = tokenizer.apply_chat_template(\n",
    "                                messages, \n",
    "                                tokenize=False, \n",
    "                                add_generation_prompt=True)\n",
    "\n",
    "sampling_params = SamplingParams(temperature=0.7,top_p=0.95,max_tokens=200,include_stop_str_in_output=True,\n",
    "                                                stop_token_ids=[\n",
    "                                                   tokenizer.eos_token_id,\n",
    "                                                   tokenizer.convert_tokens_to_ids(\"<｜end▁of▁sentence｜>\")\n",
    "                                               ])"
   ]
  },
  {
   "cell_type": "markdown",
   "metadata": {},
   "source": [
    "## Inference model"
   ]
  },
  {
   "cell_type": "code",
   "execution_count": null,
   "metadata": {
    "vscode": {
     "languageId": "ini"
    }
   },
   "outputs": [],
   "source": [
    "print(f'Input text: {input_text}')\n",
    "output_texts = model.generate(input_temp,sampling_params)\n",
    "print(f'Output texts: {output_texts}')"
   ]
  }
 ],
 "metadata": {
  "language_info": {
   "name": "python"
  }
 },
 "nbformat": 4,
 "nbformat_minor": 2
}
